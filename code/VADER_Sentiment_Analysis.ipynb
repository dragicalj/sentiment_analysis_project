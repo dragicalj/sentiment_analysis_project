{
 "cells": [
  {
   "metadata": {},
   "cell_type": "markdown",
   "source": [
    "### 1. Initial setup: Importing libraries\n",
    "\n",
    "This cell imports the necessary libraries: **Pandas** for data handling, and **NLTK/VADER** for sentiment analysis. **Pathlib** is included for robust file path construction across different operating systems."
   ],
   "id": "ef904f400ce5fd1d"
  },
  {
   "metadata": {
    "collapsed": true,
    "ExecuteTime": {
     "end_time": "2025-09-30T17:37:03.554776Z",
     "start_time": "2025-09-30T17:37:03.549470Z"
    }
   },
   "cell_type": "code",
   "source": [
    "import pandas as pd\n",
    "import nltk\n",
    "from nltk.sentiment.vader import SentimentIntensityAnalyzer\n",
    "from pathlib import Path"
   ],
   "id": "initial_id",
   "outputs": [],
   "execution_count": 26
  },
  {
   "metadata": {},
   "cell_type": "markdown",
   "source": [
    "### 2. Prepare the corpus\n",
    "\n",
    "This step iterates through the four corpus CSV files located in the `/data` folder, loads them into Pandas DataFrames, and **assigns a `band` label** to each row (song). All four DataFrames are then concatenated into a single master DataFrame (`lyrics_df`) for unified processing."
   ],
   "id": "eabdf262b762e159"
  },
  {
   "metadata": {
    "ExecuteTime": {
     "end_time": "2025-09-30T17:37:08.280158Z",
     "start_time": "2025-09-30T17:37:08.215147Z"
    }
   },
   "cell_type": "code",
   "source": [
    "base_path = Path('..')\n",
    "corpus_filenames = {\n",
    "    \"Beatles\": \"beatles.csv\",\n",
    "    \"CSNY\": \"csny.csv\",\n",
    "    \"Grunge\": \"grunge.csv\",\n",
    "    \"SNA\": \"sna.csv\"\n",
    "}\n",
    "\n",
    "all_data_frames = []\n",
    "for band, filename in corpus_filenames.items():\n",
    "    file_path = base_path / \"data\" / filename\n",
    "\n",
    "    try:\n",
    "        df = pd.read_csv(file_path, encoding='utf-8')\n",
    "\n",
    "        df['band'] = band\n",
    "        all_data_frames.append(df)\n",
    "\n",
    "    except FileNotFoundError:\n",
    "        print(f\"Error: Data file not found at path: {file_path}\")\n",
    "        continue\n",
    "    except Exception as e:\n",
    "        print(f\"Error processing {filename}. Check the file format (delimiters, columns): {e}\")\n",
    "\n",
    "lyrics_df = pd.concat(all_data_frames, ignore_index=True)"
   ],
   "id": "d159d9b469909d82",
   "outputs": [],
   "execution_count": 27
  },
  {
   "metadata": {},
   "cell_type": "markdown",
   "source": [
    "### 3. Initialize VADER sentiment analyzer\n",
    "\n",
    "The VADER analyzer object (`sid`) is instantiated. A check is included to automatically download the **VADER lexicon** from NLTK if it is not already present in the environment."
   ],
   "id": "b9a260136f8fc5ae"
  },
  {
   "metadata": {
    "ExecuteTime": {
     "end_time": "2025-09-30T17:37:10.253783Z",
     "start_time": "2025-09-30T17:37:10.233679Z"
    }
   },
   "cell_type": "code",
   "source": [
    "try:\n",
    "    sid = SentimentIntensityAnalyzer()\n",
    "except LookupError:\n",
    "    nltk.download('vader_lexicon')\n",
    "    sid = SentimentIntensityAnalyzer()"
   ],
   "id": "bc2e940f96b3a707",
   "outputs": [],
   "execution_count": 28
  },
  {
   "metadata": {},
   "cell_type": "markdown",
   "source": [
    "### 4. Perform sentiment analysis\n",
    "\n",
    "This cell executes the core VADER analysis for every song in the corpus. The code iterates through the `lyrics` column, **calculates the four primary VADER scores** (negative, neutral, positive, and compound) for each text, and temporarily stores the results in dedicated Python lists."
   ],
   "id": "2d98cb8870032e6f"
  },
  {
   "metadata": {
    "ExecuteTime": {
     "end_time": "2025-09-30T17:37:15.920741Z",
     "start_time": "2025-09-30T17:37:13.019128Z"
    }
   },
   "cell_type": "code",
   "source": [
    "lyrics_df['lyrics'] = lyrics_df['lyrics'].fillna(\"\")\n",
    "\n",
    "\n",
    "neg_scores, neu_scores, pos_scores, compound_scores = [], [], [], []\n",
    "\n",
    "for lyrics in lyrics_df['lyrics']:\n",
    "    sentiment_scores = sid.polarity_scores(lyrics)\n",
    "    neg_scores.append(sentiment_scores['neg'])\n",
    "    neu_scores.append(sentiment_scores['neu'])\n",
    "    pos_scores.append(sentiment_scores['pos'])\n",
    "    compound_scores.append(sentiment_scores['compound'])"
   ],
   "id": "1e2f48da760b4fc",
   "outputs": [],
   "execution_count": 29
  },
  {
   "metadata": {},
   "cell_type": "markdown",
   "source": [
    "### 5. Store scores in DataFrame\n",
    "\n",
    "This cell finalizes the per-song analysis by adding the four calculated sentiment lists directly into the main `lyrics_df`. Four new columns (`neg`, `neu`, `pos`, `compound`) are created to store the individual VADER scores."
   ],
   "id": "95dfc3921fe9c50f"
  },
  {
   "metadata": {
    "ExecuteTime": {
     "end_time": "2025-09-30T17:37:19.122612Z",
     "start_time": "2025-09-30T17:37:19.113439Z"
    }
   },
   "cell_type": "code",
   "source": [
    "lyrics_df['neg'] = neg_scores\n",
    "lyrics_df['neu'] = neu_scores\n",
    "lyrics_df['pos'] = pos_scores\n",
    "lyrics_df['compound'] = compound_scores"
   ],
   "id": "fa5e20bd7d5dc03a",
   "outputs": [],
   "execution_count": 30
  },
  {
   "metadata": {},
   "cell_type": "markdown",
   "source": [
    "### 6. Generate an overall corpus summary\n",
    "\n",
    "This final step aggregates the per-song data to generate the main comparative result:\n",
    "\n",
    "1.  **Grouping:** Mean scores are calculated **per corpus** using the `groupby('band').mean()` method to obtain a single average score for each band.\n",
    "2.  **Classification:** A custom function applies the standard VADER threshold ($\\pm 0.05$) to determine the categorical **\"Sentiment Classification\"** (positive, negative, or neutral) for each corpus.\n",
    "3.  **Reporting:** The final, formatted table containing the average scores and classification is printed as the primary output for detailed analysis and reporting."
   ],
   "id": "e24e109abc1e4c43"
  },
  {
   "metadata": {
    "ExecuteTime": {
     "end_time": "2025-09-30T17:37:22.969887Z",
     "start_time": "2025-09-30T17:37:22.951889Z"
    }
   },
   "cell_type": "code",
   "source": [
    "corpus_summary_df = lyrics_df.groupby('band')[['neg', 'neu', 'pos', 'compound']].mean().reset_index()\n",
    "\n",
    "final_df = corpus_summary_df.rename(columns={\n",
    "    'band': 'Corpus',\n",
    "    'neg': 'Negative polarity',\n",
    "    'neu': 'Neutral polarity',\n",
    "    'pos': 'Positive polarity',\n",
    "    'compound': 'Overall sentiment score'\n",
    "})\n",
    "\n",
    "def classify_sentiment(score):\n",
    "    if score >= 0.05:\n",
    "        return \"Positive\"\n",
    "    elif score <= -0.05:\n",
    "        return \"Negative\"\n",
    "    else:\n",
    "        return \"Neutral\"\n",
    "\n",
    "final_df['Sentiment Classification'] = final_df['Overall sentiment score'].apply(classify_sentiment)\n",
    "\n",
    "pd.set_option('display.float_format', lambda x: '%.4f' % x)\n",
    "\n",
    "print(\"\\n--- Sentiment analysis results per corpus ---\")\n",
    "print(\"-----------------------------------------------------\")\n",
    "print(final_df)"
   ],
   "id": "27d6f49065f3af35",
   "outputs": [
    {
     "name": "stdout",
     "output_type": "stream",
     "text": [
      "\n",
      "--- Sentiment analysis results per corpus ---\n",
      "-----------------------------------------------------\n",
      "    Corpus  Negative polarity  Neutral polarity  Positive polarity  \\\n",
      "0  Beatles             0.0606            0.7550             0.1844   \n",
      "1     CSNY             0.0819            0.7736             0.1307   \n",
      "2   Grunge             0.1235            0.7544             0.1222   \n",
      "3      SNA             0.0174            0.1392             0.0234   \n",
      "\n",
      "   Overall sentiment score Sentiment Classification  \n",
      "0                   0.4658                 Positive  \n",
      "1                   0.3681                 Positive  \n",
      "2                  -0.0382                  Neutral  \n",
      "3                   0.0295                  Neutral  \n"
     ]
    }
   ],
   "execution_count": 31
  }
 ],
 "metadata": {
  "kernelspec": {
   "display_name": "Python 3",
   "language": "python",
   "name": "python3"
  },
  "language_info": {
   "codemirror_mode": {
    "name": "ipython",
    "version": 2
   },
   "file_extension": ".py",
   "mimetype": "text/x-python",
   "name": "python",
   "nbconvert_exporter": "python",
   "pygments_lexer": "ipython2",
   "version": "2.7.6"
  }
 },
 "nbformat": 4,
 "nbformat_minor": 5
}
